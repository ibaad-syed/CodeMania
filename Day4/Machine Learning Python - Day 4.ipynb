{
 "cells": [
  {
   "cell_type": "code",
   "execution_count": null,
   "metadata": {},
   "outputs": [],
   "source": [
    "import pandas as pd\n",
    "import numpy as np\n",
    "import matplotlib.pyplot as plt"
   ]
  },
  {
   "cell_type": "markdown",
   "metadata": {},
   "source": [
    "# Machine Learning\n",
    "Machine Learning includes those algorithms which can find patterns in existing data to automate tasks on the same data or new data.\n",
    "There are two types of Machine Learning Algorithms:\n",
    "\n",
    "|Supervised Learning|Unsupervised Learning|\n",
    "|-------------------|---------------------|\n",
    "|Requires Train and test data|Requires Only one set of data|\n",
    "|Used to predict on new data|Used to find patterns in existing data|\n",
    "|Inferential|Descriptive|\n",
    "|Examples:Linear Regression,SVM,Neural Networks|Examples:Clustering|\n",
    "\n",
    "### What is training data?\n",
    "The data which is used to let the model understand or `fit` is called as training data.Training data has input features and output target.\n",
    "### What is testing data?\n",
    "Based on its understanding of the training data the model will try to `predict` on the test data. In test data the input features are known but the output target is not known(The model will try to find it.)"
   ]
  },
  {
   "cell_type": "markdown",
   "metadata": {},
   "source": [
    "## Sklearn(Scikit-learn) Templates for algorithms.\n",
    "### Machine Learning Algorithms\n",
    "Assume the model name is xyz\n",
    "\n",
    "1. Import the ML model<br>\n",
    "`from sklearn.abc import xyz`\n",
    "2. Create an object of the ML algorithm<br>\n",
    "    `model = xyz()`\n",
    "3. Fit on the training data<br>\n",
    "    `model.fit(X,y)`\n",
    "4. Predict on test data<br>\n",
    "    `model.predict(X)`\n",
    "    \n",
    "### Data Transformation Algorithms\n",
    "1. Import the ML model<br>\n",
    "`from sklearn.abc import xyz`\n",
    "2. Create an object of the ML algorithm<br>\n",
    "    `model = xyz()`\n",
    "3. Fit on the training data<br>\n",
    "    `model.fit(X,y)`\n",
    "4. Transform on test data<br>\n",
    "    `model.transform(X)`<br>\n",
    "Steps 3 & 4 can be clubbed using\n",
    "`model.fit_transform(X)`"
   ]
  },
  {
   "cell_type": "markdown",
   "metadata": {},
   "source": [
    "## Unsupervised Learning\n",
    "### Clustering\n",
    "clustering is the task of grouping a set of objects in such a way that objects in the same group (called a cluster) are more similar (in some sense) to each other than to those in other groups (clusters).[[1]](https://en.wikipedia.org/wiki/Cluster_analysis)<br>\n",
    "#### K-Means Clustering\n",
    "K-means works by selecting k central points, or means, hence K-Means. These means are then used as the centroid of their cluster: any point that is closest to a given mean is assigned to that mean’s cluster.\n",
    "\n",
    "Once all points are assigned, move through each cluster and take the average of all points it contains. This new ‘average’ point is the new mean of the cluster.\n",
    "\n",
    "Just repeat these two steps over and over again until the point assignments stop changing.\n",
    "![](method-k-means-steps-example.png)\n"
   ]
  },
  {
   "cell_type": "code",
   "execution_count": null,
   "metadata": {},
   "outputs": [],
   "source": [
    "df = pd.read_csv('data/train.csv')"
   ]
  },
  {
   "cell_type": "code",
   "execution_count": null,
   "metadata": {},
   "outputs": [],
   "source": [
    "# implementation\n",
    "from sklearn.cluster import KMeans"
   ]
  },
  {
   "cell_type": "code",
   "execution_count": null,
   "metadata": {},
   "outputs": [],
   "source": [
    "kmeans = KMeans(n_clusters=3)"
   ]
  },
  {
   "cell_type": "code",
   "execution_count": null,
   "metadata": {},
   "outputs": [],
   "source": [
    "# preprocess the dataset\n",
    "# kmeans.fit(df)"
   ]
  },
  {
   "cell_type": "code",
   "execution_count": null,
   "metadata": {},
   "outputs": [],
   "source": [
    "# kmeans.cluster_centres_"
   ]
  },
  {
   "cell_type": "markdown",
   "metadata": {},
   "source": [
    "### Elbow Method:\n",
    "Elbow method is used to find the right number of clusters into which the data needs to be clustered.\n",
    "![](elbow.png)"
   ]
  },
  {
   "cell_type": "code",
   "execution_count": null,
   "metadata": {},
   "outputs": [],
   "source": [
    "# implementation of elbow method."
   ]
  },
  {
   "cell_type": "code",
   "execution_count": null,
   "metadata": {},
   "outputs": [],
   "source": [
    "from sklearn.datasets import load_iris\n",
    "from sklearn.cluster import KMeans"
   ]
  },
  {
   "cell_type": "code",
   "execution_count": null,
   "metadata": {},
   "outputs": [],
   "source": [
    "iris = load_iris()\n",
    "data = pd.DataFrame(data=iris.data,columns=['f1','f2','f3','f4'])"
   ]
  },
  {
   "cell_type": "code",
   "execution_count": null,
   "metadata": {},
   "outputs": [],
   "source": [
    "x = list(range(1,10))\n",
    "y = []\n",
    "for N in range(1,10):\n",
    "    kmeans = KMeans(n_clusters=N) # create cluster object\n",
    "    kmeans.fit(data) # fit the data using kmeans\n",
    "    data1 = data.copy()\n",
    "    data1['cluster_index'] = kmeans.predict(data) # predict using the kmeans object\n",
    "    cluster_centers = kmeans.cluster_centers_ # store the centers of clusters.\n",
    "    number_of_clusters = cluster_centers.shape[0]\n",
    "    wss = 0\n",
    "    for i in range(number_of_clusters):\n",
    "        wss+= np.square(data[data1['cluster_index']== i] - cluster_centers[i,:]).values.sum()\n",
    "        # find the within sum of squares for each cluster and sum them\n",
    "    y.append(wss) # store this value in a list.\n",
    "\n",
    "# visualization\n",
    "plt.plot(x,y)\n",
    "plt.scatter(x,y)\n",
    "plt.xlabel(\"Number Of Clusters\")\n",
    "plt.ylabel(\"Within Sum Of Squares\")"
   ]
  },
  {
   "cell_type": "code",
   "execution_count": null,
   "metadata": {},
   "outputs": [],
   "source": [
    "# Your Task\n",
    "# 1.Run Kmeans on the iris data set with n clusters = 3\n",
    "# 2.find the center of cluster centers \n",
    "# 3.plot the cluster centers and center of cluster centers (only the first two columns) as a scatter plot"
   ]
  },
  {
   "cell_type": "code",
   "execution_count": null,
   "metadata": {},
   "outputs": [],
   "source": [
    "# Your Task\n",
    "# plot all the rows as points in a scatter plot (only first two columns)\n",
    "# 5.plot all the points in the same cluster with the same color\n",
    "# Hint : to mention color in a plot give the parameter color = 'r' or 'b' or 'g' etc."
   ]
  },
  {
   "cell_type": "markdown",
   "metadata": {},
   "source": [
    "### Pros Of Kmeans\n",
    "* Computationally faster with higher data points\n",
    "\n",
    "### Cons of Kmeans\n",
    "* Difficult to find the perfect k value\n",
    "* Depends on initialization\n",
    "* Can give sub-optimal results in some cases."
   ]
  },
  {
   "cell_type": "code",
   "execution_count": 31,
   "metadata": {},
   "outputs": [],
   "source": [
    "# Home task \n",
    "# Find cases where kmeans gives bad results."
   ]
  },
  {
   "cell_type": "markdown",
   "metadata": {},
   "source": [
    "# Reading Work\n",
    "* Read about other clustering methods.\n",
    "* There is a third type of machine learning algorithms called Reinforcement Learning Algorithms.Read about them."
   ]
  }
 ],
 "metadata": {
  "kernelspec": {
   "display_name": "Python 3",
   "language": "python",
   "name": "python3"
  },
  "language_info": {
   "codemirror_mode": {
    "name": "ipython",
    "version": 3
   },
   "file_extension": ".py",
   "mimetype": "text/x-python",
   "name": "python",
   "nbconvert_exporter": "python",
   "pygments_lexer": "ipython3",
   "version": "3.6.5"
  }
 },
 "nbformat": 4,
 "nbformat_minor": 2
}
