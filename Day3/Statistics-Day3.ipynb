{
 "cells": [
  {
   "cell_type": "markdown",
   "metadata": {},
   "source": [
    "# Statistic Foundations\n",
    "\n",
    "<b>Statistics</b>:Statistics is a mathematical science including methods of collecting, organizing and analyzing data in such a way that meaningful conclusions can be drawn from them. In general, its investigations and analyses fall into two broad categories called descriptive and inferential statistics.<br>\n",
    "<b>Descriptive Statistics</b>:Descriptive statistics deals with the processing of data without attempting to draw any inferences from it. The data are presented in the form of tables and graphs. The characteristics of the data are described in simple terms. Events that are dealt with include everyday happenings such as accidents, prices of goods, business, incomes, epidemics, sports data, population data.<br> \n",
    "<b>Inferential Statistics</b>:Inferential statistics is a scientific discipline that uses mathematical tools to make forecasts and projections by analyzing the given data. This is of use to people employed in such fields as engineering, economics, biology, the social sciences, business, agriculture and communications.<br><br>\n",
    "<b>Population</b>: A large group ofrelated entities.<br>\n",
    "<b>Sample</b>: A concise version of the population which is used for data analysis instead of the whole population.\n"
   ]
  },
  {
   "cell_type": "markdown",
   "metadata": {},
   "source": [
    "## Measures Of Central Tendency\n",
    "<b>Mean</b>:the sum of all measurements divided by the number of observations in the data set.<br> \n",
    "<b>Meadian</b>:the middle value that separates the higher half from the lower half of the data set. The median and the mode are the only measures of central tendency that can be used for ordinal data, in which values are ranked relative to each other but are not measured absolutely.\n",
    "<br> \n",
    "<b>Mode</b>:the most frequent value in the data set. This is the only central tendency measure that can be used with nominal data, which have purely qualitative category assignments.\n",
    "<br> "
   ]
  },
  {
   "cell_type": "code",
   "execution_count": 1,
   "metadata": {},
   "outputs": [],
   "source": [
    "import numpy as np\n",
    "import pandas as pd"
   ]
  },
  {
   "cell_type": "code",
   "execution_count": 2,
   "metadata": {},
   "outputs": [],
   "source": [
    "# Task\n",
    "# Find mean median of the numpy array below.\n",
    "a = np.random.randint(0,high=10,size=36).reshape(12,3)\n",
    "# print(\"mean of numpy array \",___)\n",
    "# print(\"meadian of numpy array \",___)"
   ]
  },
  {
   "cell_type": "markdown",
   "metadata": {},
   "source": [
    "## Covariance\n",
    "- covariance is the measure of relatability of two sets of data.<br>\n",
    "- covariance is sensitive to the data metric used.<br>\n",
    "\n",
    "\n",
    "## Correlation\n",
    "- correlation is a better measure of relatibility between two sets of data.<br>\n",
    "- use correlation not covariance."
   ]
  },
  {
   "cell_type": "code",
   "execution_count": 3,
   "metadata": {},
   "outputs": [],
   "source": [
    "# df.corr() returns the correlation between every column of a dataframe.\n",
    "# df.cov() returns the covariance between eevery column of a dataframe."
   ]
  },
  {
   "cell_type": "markdown",
   "metadata": {},
   "source": [
    "## Standard Deviation\n",
    "- measure of the spread of data.\n",
    "- square root of variance."
   ]
  },
  {
   "cell_type": "code",
   "execution_count": 4,
   "metadata": {},
   "outputs": [],
   "source": [
    "# Task\n",
    "# Compute standard deviation of the  below numpy array\n",
    "a = np.random.randint(0,high=10,size=36).reshape((12,3))\n",
    "# print(\"standard deviation of the numpy array \",___)"
   ]
  },
  {
   "cell_type": "markdown",
   "metadata": {},
   "source": [
    "## Z-Score\n",
    "It is a standardised measure of a series of data.\n",
    "\n",
    "![Z Score](download.jpeg)"
   ]
  },
  {
   "cell_type": "code",
   "execution_count": 5,
   "metadata": {},
   "outputs": [],
   "source": [
    "a = np.arange(36).reshape((9,4))\n",
    "# to standardise a series of data\n",
    "# print((a - a.mean())/a.std())"
   ]
  },
  {
   "cell_type": "code",
   "execution_count": null,
   "metadata": {},
   "outputs": [],
   "source": []
  }
 ],
 "metadata": {
  "kernelspec": {
   "display_name": "Python 3",
   "language": "python",
   "name": "python3"
  },
  "language_info": {
   "codemirror_mode": {
    "name": "ipython",
    "version": 3
   },
   "file_extension": ".py",
   "mimetype": "text/x-python",
   "name": "python",
   "nbconvert_exporter": "python",
   "pygments_lexer": "ipython3",
   "version": "3.6.5"
  }
 },
 "nbformat": 4,
 "nbformat_minor": 2
}
