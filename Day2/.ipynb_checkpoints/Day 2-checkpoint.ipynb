{
 "cells": [
  {
   "cell_type": "markdown",
   "metadata": {},
   "source": [
    "# Installation\n",
    "Required installations:\n",
    "* Python\n",
    "* Jupyter/Anaconda\n",
    "* necessary packages\n",
    "Install Anaconda 3 only\n",
    "##  For Linux Users:\n",
    "#### To Install with Anaconda:\n",
    "Go to http://docs.anaconda.com/anaconda/install/linux/\n",
    "<br>To just install jupyter\n",
    "> pip install jupyter \n",
    "\n",
    "##  For Windows Users:\n",
    "#### To install Python\n",
    "Go to https://www.python.org/downloads/windows/\n",
    "Select an excutable installer for python 3.6.5\n",
    "Run & Follow The instructions\n",
    "#### To install with Anaconda:\n",
    "Go to http://docs.anaconda.com/anaconda/install/windows/\n",
    "\n",
    "##  For MacOs Users:\n",
    "#### To install with Anaconda:\n",
    "Go to http://docs.anaconda.com/anaconda/install/mac-os/\n"
   ]
  },
  {
   "cell_type": "markdown",
   "metadata": {},
   "source": [
    "# Using Jupyter Notebook"
   ]
  },
  {
   "cell_type": "markdown",
   "metadata": {},
   "source": [
    "A Jupyter notebook consists of cells<br>\n",
    "To Execute a cell press `Shift+Enter` when the cell is selected.\n",
    "There are two modes in a jupyter notebook `Command Mode`,`Edit Mode`,each with a certain set of operations.\n",
    "In `Edit Mode` the cell is green.In `Command Mode` the cell is blue.\n",
    "press `Esc` to enter `Command Mode`. press `Enter` to enter `Edit Mode`.To get a list of actions enter command mode and press `H`.<br>\n",
    "Some other basic commands<br>\n",
    "`A`: In Command Mode , inserts cell above<br>\n",
    "`B`: In Command Mode ,inserts cell below<br>\n",
    "`D,D`: In Command Mode, deletes a cell<br>\n",
    "`Z`: Undo Cell deletion<br>\n",
    "`?`: In Edit Mode,To get documentation help<br>\n",
    "`!`: At starting of cell to run shell commands <br>\n",
    "`Tab`: To get suggestions"
   ]
  },
  {
   "cell_type": "markdown",
   "metadata": {},
   "source": [
    "# Python Basics"
   ]
  },
  {
   "cell_type": "code",
   "execution_count": 1,
   "metadata": {},
   "outputs": [
    {
     "name": "stdout",
     "output_type": "stream",
     "text": [
      "Python 3.6.5 :: Anaconda, Inc.\r\n"
     ]
    }
   ],
   "source": [
    "! python --version # check whether your version is 3.x "
   ]
  },
  {
   "cell_type": "markdown",
   "metadata": {},
   "source": [
    "## Foundations"
   ]
  },
  {
   "cell_type": "code",
   "execution_count": 2,
   "metadata": {},
   "outputs": [
    {
     "name": "stdout",
     "output_type": "stream",
     "text": [
      "a is a  <class 'int'>\n",
      "a is now a  <class 'str'>\n"
     ]
    }
   ],
   "source": [
    "# python does not have explicit typing. A variable can be integer at a instant String in another\n",
    "a = 1\n",
    "print(\"a is a \",type(a))\n",
    "a = \"HI\"\n",
    "print(\"a is now a \",type(a))"
   ]
  },
  {
   "cell_type": "code",
   "execution_count": 3,
   "metadata": {},
   "outputs": [
    {
     "name": "stdout",
     "output_type": "stream",
     "text": [
      "a is a string\n"
     ]
    }
   ],
   "source": [
    "# python control statements\n",
    "# indentation matters!\n",
    "if type(a) is int:\n",
    "    print(\"a is an integer\")\n",
    "elif type(a) is str:\n",
    "    print(\"a is a string\")\n",
    "else:\n",
    "    print(\"a is something else\")"
   ]
  },
  {
   "cell_type": "code",
   "execution_count": 4,
   "metadata": {},
   "outputs": [
    {
     "name": "stdout",
     "output_type": "stream",
     "text": [
      "Iteration  1\n",
      "Iteration  2\n",
      "Iteration  3\n",
      "Iteration  4\n",
      "Iteration  5\n",
      "Iteration  6\n",
      "Iteration  7\n",
      "Iteration  8\n",
      "Iteration  9\n",
      "Iteration  10\n",
      "Reverse Iteration 10\n",
      "Reverse Iteration 9\n",
      "Reverse Iteration 8\n",
      "Reverse Iteration 7\n",
      "Reverse Iteration 6\n",
      "Reverse Iteration 5\n",
      "Reverse Iteration 4\n",
      "Reverse Iteration 3\n",
      "Reverse Iteration 2\n",
      "Reverse Iteration 1\n"
     ]
    }
   ],
   "source": [
    "# python loop statements\n",
    "# indentation matters!\n",
    "for i in range(10):\n",
    "    print(\"Iteration \",i+1)\n",
    "i = 10\n",
    "while i>0:\n",
    "    print(\"Reverse Iteration\",i)\n",
    "    i -= 1 # -- does not exist in python"
   ]
  },
  {
   "cell_type": "markdown",
   "metadata": {},
   "source": [
    "## Lists\n",
    "Lists can store objects of any data type."
   ]
  },
  {
   "cell_type": "markdown",
   "metadata": {},
   "source": [
    "### Initialization"
   ]
  },
  {
   "cell_type": "code",
   "execution_count": 5,
   "metadata": {},
   "outputs": [
    {
     "name": "stdout",
     "output_type": "stream",
     "text": [
      "[1, 2.0, True, 'Hello', [2, 3, 4]]\n",
      "[0, 1, 2, 3, 4, 5]\n",
      "[0, 1, 4, 9, 16, 25, 36, 49, 64, 81]\n"
     ]
    }
   ],
   "source": [
    "a = [1,2.0,True,\"Hello\",[2,3,4]] # elements can have different types\n",
    "print(a)\n",
    "b = range(6) # don't worry\n",
    "a = list(b) # list(iterable)\n",
    "print(a)\n",
    "a = [x**2 for x in range(10)] # list comprehension\n",
    "print(a)"
   ]
  },
  {
   "cell_type": "markdown",
   "metadata": {},
   "source": [
    "### Operations / Functions"
   ]
  },
  {
   "cell_type": "code",
   "execution_count": 6,
   "metadata": {},
   "outputs": [
    {
     "name": "stdout",
     "output_type": "stream",
     "text": [
      "Length of a is  3\n"
     ]
    }
   ],
   "source": [
    "a = [1,2,3]\n",
    "print(\"Length of a is \",len(a))"
   ]
  },
  {
   "cell_type": "code",
   "execution_count": 7,
   "metadata": {},
   "outputs": [
    {
     "name": "stdout",
     "output_type": "stream",
     "text": [
      "a before appending [1, 2, 3]\n",
      "a after appending [1, 2, 3, 4]\n"
     ]
    }
   ],
   "source": [
    "a = [1,2,3]\n",
    "print(\"a before appending\",a)\n",
    "a.append(4) # appends element to the end of list\n",
    "print(\"a after appending\",a)"
   ]
  },
  {
   "cell_type": "code",
   "execution_count": 8,
   "metadata": {},
   "outputs": [
    {
     "name": "stdout",
     "output_type": "stream",
     "text": [
      "a before extending [1, 2, 3]\n",
      "a after extending [1, 2, 3, 4, 5]\n"
     ]
    }
   ],
   "source": [
    "a = [1,2,3]\n",
    "b = [4,5]\n",
    "print(\"a before extending\",a)\n",
    "a.extend(b) # appends another list(b) at the end of list (a) . Same as a = a + b\n",
    "print(\"a after extending\",a)"
   ]
  },
  {
   "cell_type": "code",
   "execution_count": 9,
   "metadata": {},
   "outputs": [
    {
     "name": "stdout",
     "output_type": "stream",
     "text": [
      "a before inserting [1, 3, 4]\n",
      "a after inserting [1, 2, 3, 4]\n"
     ]
    }
   ],
   "source": [
    "a = [1,3,4]\n",
    "print(\"a before inserting\",a)\n",
    "a.insert(1,2) # insert(x,y) inserts y at position x\n",
    "print(\"a after inserting\",a)"
   ]
  },
  {
   "cell_type": "code",
   "execution_count": 10,
   "metadata": {},
   "outputs": [
    {
     "name": "stdout",
     "output_type": "stream",
     "text": [
      "a before removing [1, 2, 3, 3, 4]\n",
      "a after removing [1, 2, 3, 4]\n"
     ]
    }
   ],
   "source": [
    "a = [1,2,3,3,4]\n",
    "print(\"a before removing\",a)\n",
    "a.remove(3) # removes the first occurence of an element\n",
    "print(\"a after removing\",a)"
   ]
  },
  {
   "cell_type": "code",
   "execution_count": 11,
   "metadata": {},
   "outputs": [
    {
     "name": "stdout",
     "output_type": "stream",
     "text": [
      "a before popping [1, 2, 3, 4, 5]\n",
      "a after popping [1, 2, 3, 4]\n"
     ]
    }
   ],
   "source": [
    "a = [1,2,3,4,5]\n",
    "print(\"a before popping\",a)\n",
    "a.pop() # pops the last element of the list . If given index as a parameter it\n",
    "# would have removed element at that index\n",
    "print(\"a after popping\",a)"
   ]
  },
  {
   "cell_type": "code",
   "execution_count": 12,
   "metadata": {},
   "outputs": [
    {
     "name": "stdout",
     "output_type": "stream",
     "text": [
      "a before clearing [1, 2, 3, 4]\n",
      "a after clearing []\n"
     ]
    }
   ],
   "source": [
    "a = [1,2,3,4]\n",
    "print(\"a before clearing\",a)\n",
    "a.clear()\n",
    "print(\"a after clearing\",a)"
   ]
  },
  {
   "cell_type": "code",
   "execution_count": 13,
   "metadata": {},
   "outputs": [
    {
     "name": "stdout",
     "output_type": "stream",
     "text": [
      "Index of element whose value is 8 is 3\n"
     ]
    }
   ],
   "source": [
    "a = [5,6,7,8]\n",
    "print(\"Index of element whose value is 8 is\",a.index(8)) # gets the index of the element in the list"
   ]
  },
  {
   "cell_type": "code",
   "execution_count": 14,
   "metadata": {},
   "outputs": [
    {
     "name": "stdout",
     "output_type": "stream",
     "text": [
      "Count of element 3 is  4\n"
     ]
    }
   ],
   "source": [
    "a = [1,2,3,3,3,3,4,4]\n",
    "print(\"Count of element 3 is \",a.count(3)) # gets the count of the element in list"
   ]
  },
  {
   "cell_type": "code",
   "execution_count": 15,
   "metadata": {},
   "outputs": [
    {
     "name": "stdout",
     "output_type": "stream",
     "text": [
      "a is  [1, 2, 3, 4]\n",
      "reversed a is  [4, 3, 2, 1]\n"
     ]
    }
   ],
   "source": [
    "a = [1,2,3,4]\n",
    "print(\"a is \",a)\n",
    "a.reverse() # reverses the ordering of a list\n",
    "print(\"reversed a is \",a)"
   ]
  },
  {
   "cell_type": "code",
   "execution_count": 16,
   "metadata": {},
   "outputs": [
    {
     "name": "stdout",
     "output_type": "stream",
     "text": [
      "unsorted a is  [4, 3, 8, 1]\n",
      "sorted a is [1, 3, 4, 8]\n"
     ]
    }
   ],
   "source": [
    "a = [4,3,8,1]\n",
    "print(\"unsorted a is \",a)\n",
    "a.sort() # sorts a list\n",
    "print(\"sorted a is\",a)"
   ]
  },
  {
   "cell_type": "markdown",
   "metadata": {},
   "source": [
    "## Sets"
   ]
  },
  {
   "cell_type": "markdown",
   "metadata": {},
   "source": [
    "Sets are unordered collection of elements.\n",
    "A set does not have repetition of elements."
   ]
  },
  {
   "cell_type": "markdown",
   "metadata": {},
   "source": [
    "### Initialization"
   ]
  },
  {
   "cell_type": "code",
   "execution_count": 17,
   "metadata": {},
   "outputs": [
    {
     "name": "stdout",
     "output_type": "stream",
     "text": [
      "direct initialization {1, 2, 3, 4}\n",
      "using set() function  {1, 2, 3, 4}\n",
      "using set comprehension {0, 1, 4, 9}\n"
     ]
    }
   ],
   "source": [
    "a = {1,2,3,3,4} # direct initialization\n",
    "print(\"direct initialization\",a)\n",
    "a = [1,2,3,3,4]\n",
    "print(\"using set() function \",set(a)) # using set() function\n",
    "a = { x**2 for x in range(4)} # set comprehension\n",
    "print(\"using set comprehension\",a)"
   ]
  },
  {
   "cell_type": "markdown",
   "metadata": {},
   "source": [
    "### Functions/Operators"
   ]
  },
  {
   "cell_type": "code",
   "execution_count": 18,
   "metadata": {},
   "outputs": [
    {
     "name": "stdout",
     "output_type": "stream",
     "text": [
      "Error:\n",
      "'set' object does not support indexing\n"
     ]
    }
   ],
   "source": [
    "a = {1,2,3,4}\n",
    "try:\n",
    "    a[2]\n",
    "except Exception as e:\n",
    "    print(\"Error:\")\n",
    "    print(e)\n",
    "# set does not support indexing. To index convert it into list."
   ]
  },
  {
   "cell_type": "code",
   "execution_count": 19,
   "metadata": {},
   "outputs": [
    {
     "name": "stdout",
     "output_type": "stream",
     "text": [
      "a after adding {1, 2, 3, 4, 5}\n",
      "b  {3, 4, 5, 6}\n",
      "a-b  {1, 2}\n",
      "a union b  {1, 2, 3, 4, 5, 6}\n",
      "a intersection b {3, 4, 5}\n",
      "Is {1,2} subset of a : True\n",
      " a b symmetric difference : {1, 2, 6}\n"
     ]
    }
   ],
   "source": [
    "a = {1,2,3,4}\n",
    "b = {3,4,5,5,6}\n",
    "a.add(5) # adds element to the set\n",
    "print(\"a after adding\",a)\n",
    "print(\"b \",b)\n",
    "print(\"a-b \",a.difference(b)) # difference set operation\n",
    "print(\"a union b \",a.union(b)) # union  set operation\n",
    "print(\"a intersection b\",a.intersection(b)) # intersection\n",
    "print(\"Is {1,2} subset of a :\",{1,2}.issubset(a)) # subset operation\n",
    "print(\" a b symmetric difference :\", a.symmetric_difference(b)) # symmetric difference"
   ]
  },
  {
   "cell_type": "markdown",
   "metadata": {},
   "source": [
    "## Dictionaries\n",
    "Dictionaries are key:value pairs .Similar to hash maps"
   ]
  },
  {
   "cell_type": "markdown",
   "metadata": {},
   "source": [
    "### Initialization"
   ]
  },
  {
   "cell_type": "code",
   "execution_count": 20,
   "metadata": {},
   "outputs": [
    {
     "name": "stdout",
     "output_type": "stream",
     "text": [
      "{'Ind': 1, 'Pak': 2, 'Ban': 3}\n",
      "{'Ind': 1, 'Pak': 2, 'Ban': 3}\n",
      "{0: 1, 1: 2, 2: 3}\n"
     ]
    }
   ],
   "source": [
    "a = {\"Ind\":1,\"Pak\":2,\"Ban\":3} # direct initialization\n",
    "print(a)\n",
    "a = dict([(\"Ind\",1),(\"Pak\",2),(\"Ban\",3)]) # using dict() function\n",
    "print(a)\n",
    "a = {i:i+1 for i in range(3)} # dictionary comprehension\n",
    "print(a)"
   ]
  },
  {
   "cell_type": "markdown",
   "metadata": {},
   "source": [
    "### Functions/Operations"
   ]
  },
  {
   "cell_type": "code",
   "execution_count": 21,
   "metadata": {},
   "outputs": [
    {
     "name": "stdout",
     "output_type": "stream",
     "text": [
      "Keys ['Ind', 'Pak', 'Ban']\n",
      "Values [1, 2, 3]\n",
      "Items [('Ind', 1), ('Pak', 2), ('Ban', 3)]\n"
     ]
    }
   ],
   "source": [
    "a = {\"Ind\":1,\"Pak\":2,\"Ban\":3}\n",
    "print(\"Keys\",list(a.keys())) # the keys of the dictionary\n",
    "print(\"Values\",list(a.values())) # the values of the dictionary\n",
    "print(\"Items\",list(a.items())) # dictionary as a list of pairs"
   ]
  },
  {
   "cell_type": "code",
   "execution_count": 22,
   "metadata": {},
   "outputs": [
    {
     "name": "stdout",
     "output_type": "stream",
     "text": [
      "unhashable type: 'list'\n"
     ]
    }
   ],
   "source": [
    "try:\n",
    "    a = {[1,2]:2} # mutable types like list cannot be keys.\n",
    "except Exception as e:\n",
    "    print(e)"
   ]
  },
  {
   "cell_type": "code",
   "execution_count": 23,
   "metadata": {},
   "outputs": [
    {
     "name": "stdout",
     "output_type": "stream",
     "text": [
      "1\n",
      "None\n"
     ]
    }
   ],
   "source": [
    "print(a.get(\"Ind\"))\n",
    "print(a.get(\"Bangladesh\"))"
   ]
  },
  {
   "cell_type": "code",
   "execution_count": 24,
   "metadata": {},
   "outputs": [
    {
     "name": "stdout",
     "output_type": "stream",
     "text": [
      "'Bangladesh'\n"
     ]
    }
   ],
   "source": [
    "try:\n",
    "    print(a['Bangladesh'])\n",
    "except Exception as e:\n",
    "    print(e)"
   ]
  },
  {
   "cell_type": "markdown",
   "metadata": {},
   "source": [
    "## Tuples"
   ]
  },
  {
   "cell_type": "markdown",
   "metadata": {},
   "source": [
    "### Initialization"
   ]
  },
  {
   "cell_type": "code",
   "execution_count": 25,
   "metadata": {},
   "outputs": [],
   "source": [
    "a = (2,3) # direct initialization\n",
    "a = tuple([2,3]) # using tuple() function"
   ]
  },
  {
   "cell_type": "code",
   "execution_count": 26,
   "metadata": {},
   "outputs": [
    {
     "name": "stdout",
     "output_type": "stream",
     "text": [
      "'tuple' object does not support item assignment\n"
     ]
    }
   ],
   "source": [
    "try:\n",
    "    a[0] = 1\n",
    "except Exception as e:\n",
    "    print(e) # tuples cannot be modified ie. are immutable"
   ]
  },
  {
   "cell_type": "markdown",
   "metadata": {},
   "source": [
    "### Functions/Operations"
   ]
  },
  {
   "cell_type": "code",
   "execution_count": 27,
   "metadata": {},
   "outputs": [
    {
     "name": "stdout",
     "output_type": "stream",
     "text": [
      "(2, 3, 'Cats', 'Dogs')\n"
     ]
    }
   ],
   "source": [
    "a = (2,3)\n",
    "b = (\"Cats\",\"Dogs\")\n",
    "print(a+b)"
   ]
  },
  {
   "cell_type": "code",
   "execution_count": 28,
   "metadata": {},
   "outputs": [
    {
     "name": "stdout",
     "output_type": "stream",
     "text": [
      "No of times 3 occured 2\n",
      "Index of first 3 1\n"
     ]
    }
   ],
   "source": [
    "a = (2,3,3,4,1,2)\n",
    "print(\"No of times 3 occured\",a.count(3)) # Counts the occurences\n",
    "print(\"Index of first 3\",a.index(3)) # Index of the first occurence"
   ]
  },
  {
   "cell_type": "markdown",
   "metadata": {},
   "source": [
    "## Strings"
   ]
  },
  {
   "cell_type": "code",
   "execution_count": 29,
   "metadata": {},
   "outputs": [],
   "source": [
    "a = \"they don't know that we know they know we know \"\n",
    "# strings are treated as character arrays"
   ]
  },
  {
   "cell_type": "code",
   "execution_count": 30,
   "metadata": {
    "scrolled": true
   },
   "outputs": [
    {
     "name": "stdout",
     "output_type": "stream",
     "text": [
      "they don't know that we know they know we know\n",
      " we know they know we know\n",
      "they don't know that\n",
      " we know they know \n"
     ]
    }
   ],
   "source": [
    "# String Indexing\n",
    "print(a)\n",
    "print(a[20:]) # after the first 20 characters\n",
    "print(a[:20]) # first 20 characters\n",
    "print(a[20:39]) # after first 20 characters but before 40 characters"
   ]
  },
  {
   "cell_type": "code",
   "execution_count": 31,
   "metadata": {},
   "outputs": [
    {
     "data": {
      "text/plain": [
       "4"
      ]
     },
     "execution_count": 31,
     "metadata": {},
     "output_type": "execute_result"
    }
   ],
   "source": [
    "a.count(\"know\") # gets the count of substring"
   ]
  },
  {
   "cell_type": "code",
   "execution_count": 32,
   "metadata": {},
   "outputs": [
    {
     "name": "stdout",
     "output_type": "stream",
     "text": [
      "False\n",
      "False\n",
      "True\n"
     ]
    }
   ],
   "source": [
    "print(a.isalpha()) # True if all characters are alphabetic \n",
    "print(a.isalnum()) # True if it has only numericals\n",
    "print(\"know\" in a) # checks if a substring exists"
   ]
  },
  {
   "cell_type": "code",
   "execution_count": 33,
   "metadata": {},
   "outputs": [
    {
     "name": "stdout",
     "output_type": "stream",
     "text": [
      "they don't know that we know they know we knowthey don't know that we know they know we knowthey don't know that we know they know we know\n",
      "they don't know that we know they know we know  said Monica.\n"
     ]
    }
   ],
   "source": [
    "# string operations\n",
    "print(a*3) # appended the same string n times\n",
    "print(a + \"  said Monica.\") # appends new string to previous string"
   ]
  },
  {
   "cell_type": "markdown",
   "metadata": {},
   "source": [
    "# Numpy Basics"
   ]
  },
  {
   "cell_type": "code",
   "execution_count": 34,
   "metadata": {},
   "outputs": [],
   "source": [
    "import numpy as np"
   ]
  },
  {
   "cell_type": "markdown",
   "metadata": {},
   "source": [
    "## Numpy Array Initialization"
   ]
  },
  {
   "cell_type": "code",
   "execution_count": 35,
   "metadata": {},
   "outputs": [
    {
     "name": "stdout",
     "output_type": "stream",
     "text": [
      "[[2 3 4]\n",
      " [4 5 6]]\n",
      "[0 1 2 3 4 5 6 7 8 9]\n",
      "[[1. 1. 1.]\n",
      " [1. 1. 1.]\n",
      " [1. 1. 1.]]\n",
      "[[0. 0. 0.]\n",
      " [0. 0. 0.]\n",
      " [0. 0. 0.]]\n",
      "[[1. 0. 0.]\n",
      " [0. 1. 0.]\n",
      " [0. 0. 1.]]\n",
      "[11. 12. 13. 14. 15. 16. 17. 18. 19. 20.]\n"
     ]
    }
   ],
   "source": [
    "a = np.array([[2,3,4],[4,5,6]]) # direct initialization from lists\n",
    "print(a)\n",
    "a = np.arange(10) # numpy array of first 10 numbers.\n",
    "print(a)\n",
    "a = np.ones((3,3)) # numpy array of all ones of shape 3,3\n",
    "print(a)\n",
    "a = np.zeros((3,3)) # numpy array of all zeroes of shape 3,3\n",
    "print(a)\n",
    "a = np.eye(3) # numpy array of identiy matrix of size 3\n",
    "print(a)\n",
    "a = np.linspace(start=11,num=10,stop=20) # selects 'nums' points between start and stop  with equal distance\n",
    "print(a)"
   ]
  },
  {
   "cell_type": "markdown",
   "metadata": {},
   "source": [
    "## Numpy Array Atributes"
   ]
  },
  {
   "cell_type": "code",
   "execution_count": 36,
   "metadata": {},
   "outputs": [
    {
     "name": "stdout",
     "output_type": "stream",
     "text": [
      "Shape (6, 6)\n",
      "Size 36\n",
      "Number Of Dimensions 2\n",
      "Data type of the array int64\n"
     ]
    }
   ],
   "source": [
    "a = np.arange(36).reshape((6,6))\n",
    "print(\"Shape\",a.shape) # shape of the numpy array\n",
    "print(\"Size\",a.size) # size of the numpy array\n",
    "print(\"Number Of Dimensions\",a.ndim) # number of array dimensions\n",
    "print(\"Data type of the array\",a.dtype) # the data type of numpy array"
   ]
  },
  {
   "cell_type": "code",
   "execution_count": 37,
   "metadata": {},
   "outputs": [
    {
     "name": "stdout",
     "output_type": "stream",
     "text": [
      "[ 2 10 23]\n"
     ]
    }
   ],
   "source": [
    "print(a[[0,1,3],[2,4,5]]) # selects elements located at 0,2 :1,4 :3,5"
   ]
  },
  {
   "cell_type": "code",
   "execution_count": 38,
   "metadata": {},
   "outputs": [
    {
     "data": {
      "text/plain": [
       "array([[False, False, False, False, False, False],\n",
       "       [False, False, False, False, False, False],\n",
       "       [False, False, False, False, False, False],\n",
       "       [False,  True,  True,  True,  True,  True],\n",
       "       [ True,  True,  True,  True,  True,  True],\n",
       "       [ True,  True,  True,  True,  True,  True]])"
      ]
     },
     "execution_count": 38,
     "metadata": {},
     "output_type": "execute_result"
    }
   ],
   "source": [
    "a > 18"
   ]
  },
  {
   "cell_type": "code",
   "execution_count": 39,
   "metadata": {
    "scrolled": true
   },
   "outputs": [
    {
     "data": {
      "text/plain": [
       "array([19, 20, 21, 22, 23, 24, 25, 26, 27, 28, 29, 30, 31, 32, 33, 34, 35])"
      ]
     },
     "execution_count": 39,
     "metadata": {},
     "output_type": "execute_result"
    }
   ],
   "source": [
    "a[a>18] # boolean masking"
   ]
  },
  {
   "cell_type": "markdown",
   "metadata": {},
   "source": [
    "## Numpy Array Functions"
   ]
  },
  {
   "cell_type": "code",
   "execution_count": 40,
   "metadata": {
    "scrolled": true
   },
   "outputs": [
    {
     "name": "stdout",
     "output_type": "stream",
     "text": [
      "Transpose:\n",
      " [[ 0  6 12 18 24 30]\n",
      " [ 1  7 13 19 25 31]\n",
      " [ 2  8 14 20 26 32]\n",
      " [ 3  9 15 21 27 33]\n",
      " [ 4 10 16 22 28 34]\n",
      " [ 5 11 17 23 29 35]]\n",
      "Original:\n",
      " [[ 0  1  2  3  4  5]\n",
      " [ 6  7  8  9 10 11]\n",
      " [12 13 14 15 16 17]\n",
      " [18 19 20 21 22 23]\n",
      " [24 25 26 27 28 29]\n",
      " [30 31 32 33 34 35]]\n",
      "Trace: 105\n"
     ]
    }
   ],
   "source": [
    "print(\"Transpose:\\n\",a.transpose()) # transpose of the matrix\n",
    "print(\"Original:\\n\",a) # original matrix remains unchanged\n",
    "print(\"Trace:\",a.trace()) # trace of the matrix"
   ]
  },
  {
   "cell_type": "code",
   "execution_count": 41,
   "metadata": {
    "scrolled": true
   },
   "outputs": [
    {
     "name": "stdout",
     "output_type": "stream",
     "text": [
      "17.5\n",
      "[ 2.5  8.5 14.5 20.5 26.5 32.5]\n",
      "[15. 16. 17. 18. 19. 20.]\n"
     ]
    }
   ],
   "source": [
    "print(a.mean()) # global mean\n",
    "print(a.mean(axis=1)) # row-wise mean\n",
    "print(a.mean(axis=0)) # column-wise mean"
   ]
  },
  {
   "cell_type": "code",
   "execution_count": 42,
   "metadata": {},
   "outputs": [
    {
     "name": "stdout",
     "output_type": "stream",
     "text": [
      "35\n",
      "[ 5 11 17 23 29 35]\n",
      "[30 31 32 33 34 35]\n"
     ]
    }
   ],
   "source": [
    "print(a.max()) # global max\n",
    "print(a.max(axis=1)) # row-wise max\n",
    "print(a.max(axis=0)) # column-wise max\n",
    "# similarly for minimum"
   ]
  },
  {
   "cell_type": "code",
   "execution_count": 43,
   "metadata": {},
   "outputs": [
    {
     "name": "stdout",
     "output_type": "stream",
     "text": [
      "[0 0 0 0 0 0]\n",
      "[5 5 5 5 5 5]\n"
     ]
    }
   ],
   "source": [
    "print(a.argmin(axis=0)) # position of the smallest element column wise\n",
    "print(a.argmax(axis=1)) # position of the largest element row wise"
   ]
  },
  {
   "cell_type": "code",
   "execution_count": 44,
   "metadata": {},
   "outputs": [
    {
     "name": "stdout",
     "output_type": "stream",
     "text": [
      "10.388294694831615\n"
     ]
    }
   ],
   "source": [
    "print(a.std()) # prints the standard deviation of the elements"
   ]
  },
  {
   "cell_type": "code",
   "execution_count": 45,
   "metadata": {},
   "outputs": [
    {
     "name": "stdout",
     "output_type": "stream",
     "text": [
      "[ 0  1  2  3  4  5  6  7  8  9 10 11 12 13 14 15 16 17 18 19 20 21 22 23\n",
      " 24 25 26 27 28 29 30 31 32 33 34 35]\n"
     ]
    }
   ],
   "source": [
    "print(a.flatten()) # flattens a multi-dimensional array"
   ]
  },
  {
   "cell_type": "code",
   "execution_count": 46,
   "metadata": {},
   "outputs": [
    {
     "name": "stdout",
     "output_type": "stream",
     "text": [
      "[[ 0  1  2]\n",
      " [ 3  4  5]\n",
      " [ 6  7  8]\n",
      " [ 9 10 11]\n",
      " [12 13 14]\n",
      " [15 16 17]\n",
      " [18 19 20]\n",
      " [21 22 23]\n",
      " [24 25 26]\n",
      " [27 28 29]\n",
      " [30 31 32]\n",
      " [33 34 35]]\n"
     ]
    }
   ],
   "source": [
    "print(a.reshape(12,3)) # reshapes the numpy array to a new shape"
   ]
  },
  {
   "cell_type": "code",
   "execution_count": 47,
   "metadata": {
    "scrolled": true
   },
   "outputs": [
    {
     "name": "stdout",
     "output_type": "stream",
     "text": [
      "[[-18 -17 -16 -15 -14 -13]\n",
      " [-12 -11 -10  -9  -8  -7]\n",
      " [ -6  -5  -4  -3  -2  -1]\n",
      " [  0   1   2   3   4   5]\n",
      " [  6   7   8   9  10  11]\n",
      " [ 12  13  14  15  16  17]]\n",
      "\n",
      "[[ 0  0  0  0  0  0]\n",
      " [ 6  6  6  6  6  6]\n",
      " [12 12 12 12 12 12]\n",
      " [18 18 18 18 18 18]\n",
      " [24 24 24 24 24 24]\n",
      " [30 30 30 30 30 30]]\n"
     ]
    }
   ],
   "source": [
    "print(a-18) # subtracts all elements by the number\n",
    "print()\n",
    "print(a - np.arange(6)) # subtracts each row .Broadcast\n",
    "# similarly addition"
   ]
  },
  {
   "cell_type": "code",
   "execution_count": 48,
   "metadata": {},
   "outputs": [
    {
     "name": "stdout",
     "output_type": "stream",
     "text": [
      "[[ 165  180  195]\n",
      " [ 435  486  537]\n",
      " [ 705  792  879]\n",
      " [ 975 1098 1221]\n",
      " [1245 1404 1563]\n",
      " [1515 1710 1905]]\n"
     ]
    }
   ],
   "source": [
    "b = np.arange(18).reshape((6,3))\n",
    "print(np.dot(a,b)) # matrix multiplication.a.dot(b) also works same"
   ]
  },
  {
   "cell_type": "code",
   "execution_count": 49,
   "metadata": {},
   "outputs": [
    {
     "name": "stdout",
     "output_type": "stream",
     "text": [
      "[6 8 4 3 6 2 9 5 3 3]\n",
      "[ 0.65631036  0.55413245  1.380326    0.57856147 -2.69634806 -1.1702464\n",
      " -0.79825789  1.05711593 -1.88246449 -0.54842019]\n",
      "[3 2 5]\n"
     ]
    }
   ],
   "source": [
    "b = np.random.randint(0,high=10,size=10) # selects random integers \n",
    "print(b)\n",
    "b = np.random.normal(loc=0,scale=1,size=10) # selects randomly from a normal dirtibution\n",
    "print(b)\n",
    "b = np.random.choice([1,2,3,4,5],size=3,replace=False,p = [0.2]*5) # selects randomly from the given list\n",
    "print(b)"
   ]
  },
  {
   "cell_type": "markdown",
   "metadata": {},
   "source": [
    "## [Monty Hall Problem](https://en.wikipedia.org/wiki/Monty_Hall_problem)"
   ]
  },
  {
   "cell_type": "markdown",
   "metadata": {},
   "source": [
    "Suppose you’re on a game show, and you’re given the choice of three doors: Behind one door is a car; behind the others, goats. You pick a door, say No. 1, and the host, who knows what’s behind the doors, opens another door, say No. 3, which has a goat. He then says to you, “Do you want to pick door No. 2?” Is it to your advantage to switch your choice?\n",
    "! ![Alt text](Monty_open_door.svg)"
   ]
  },
  {
   "cell_type": "code",
   "execution_count": 50,
   "metadata": {},
   "outputs": [],
   "source": [
    "def remaining_goat(choices,taken):\n",
    "    # gives the choice of the host for the given position of prize and your choice.\n",
    "    goat_options = [x for x in choices if x not in taken]\n",
    "    return np.random.choice(goat_options)"
   ]
  },
  {
   "cell_type": "code",
   "execution_count": 51,
   "metadata": {},
   "outputs": [
    {
     "name": "stdout",
     "output_type": "stream",
     "text": [
      "Switching good %:  34.6\n",
      "Not Switching good%:  65.4\n"
     ]
    }
   ],
   "source": [
    "S = 1000\n",
    "choices = np.array([1,2,3]) # all the choices you have\n",
    "prize = np.random.choice([1,2,3],size=S) # assume prize is in one of the three doors.\n",
    "your_choice = np.random.choice([1,2,3],size=S) # your choice in the S trials.\n",
    "total_list = np.ones((S,3))\n",
    "total_list[:,0] = prize\n",
    "total_list[:,1] = your_choice\n",
    "total_list[:,2] = np.array([remaining_goat(choices,total_list[i,[0,1]]) for i in range(S)]) # the host shown goat\n",
    "print(\"Switching good %: \",np.sum(total_list[:,0] == total_list[:,1])/10)\n",
    "print(\"Not Switching good%: \",np.sum(total_list[:,0] != total_list[:,1])/10)"
   ]
  },
  {
   "cell_type": "code",
   "execution_count": null,
   "metadata": {},
   "outputs": [],
   "source": []
  }
 ],
 "metadata": {
  "kernelspec": {
   "display_name": "Python 3",
   "language": "python",
   "name": "python3"
  },
  "language_info": {
   "codemirror_mode": {
    "name": "ipython",
    "version": 3
   },
   "file_extension": ".py",
   "mimetype": "text/x-python",
   "name": "python",
   "nbconvert_exporter": "python",
   "pygments_lexer": "ipython3",
   "version": "3.7.1"
  }
 },
 "nbformat": 4,
 "nbformat_minor": 2
}
